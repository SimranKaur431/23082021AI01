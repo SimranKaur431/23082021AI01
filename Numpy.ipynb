{
 "cells": [
  {
   "cell_type": "markdown",
   "id": "93209702-c0a3-4546-a907-ba8f424e76e0",
   "metadata": {},
   "source": [
    "# <b><div style='rgb'>NUMPY</div></b>"
   ]
  },
  {
   "cell_type": "code",
   "execution_count": 2,
   "id": "3c748548-6de7-4c44-b0e8-b45a3ed81076",
   "metadata": {},
   "outputs": [],
   "source": [
    "import numpy as np"
   ]
  },
  {
   "cell_type": "code",
   "execution_count": 5,
   "id": "d06362cd-a0e7-4d0d-838b-be3889d6b129",
   "metadata": {},
   "outputs": [],
   "source": [
    "a=np.array([[4,8,9,1],[3,1,2,6],[11,9,6,9]])"
   ]
  },
  {
   "cell_type": "markdown",
   "id": "4583bd28-45d2-469f-9fe1-fef91de8476c",
   "metadata": {},
   "source": [
    "a.shape"
   ]
  },
  {
   "cell_type": "markdown",
   "id": "a330b3dd-72c7-404d-a33f-08b6fedfce67",
   "metadata": {},
   "source": [
    "#### Inbuilt Functions"
   ]
  },
  {
   "cell_type": "code",
   "execution_count": 8,
   "id": "987a65dc-96c6-4792-9cab-6da7b1d0e8ea",
   "metadata": {},
   "outputs": [
    {
     "data": {
      "text/plain": [
       "array([22, 12, 35])"
      ]
     },
     "execution_count": 8,
     "metadata": {},
     "output_type": "execute_result"
    }
   ],
   "source": [
    "a.sum(axis=1) #sum along row"
   ]
  },
  {
   "cell_type": "code",
   "execution_count": 9,
   "id": "d53cf76c-fc7c-402d-9c05-29ad2e8bbfe6",
   "metadata": {},
   "outputs": [
    {
     "data": {
      "text/plain": [
       "array([18, 18, 17, 16])"
      ]
     },
     "execution_count": 9,
     "metadata": {},
     "output_type": "execute_result"
    }
   ],
   "source": [
    "a.sum(axis=0) #sum along axis"
   ]
  },
  {
   "cell_type": "code",
   "execution_count": 10,
   "id": "ac33f633-497a-487a-a7c3-9484524dfc58",
   "metadata": {},
   "outputs": [
    {
     "data": {
      "text/plain": [
       "array([5.5 , 3.  , 8.75])"
      ]
     },
     "execution_count": 10,
     "metadata": {},
     "output_type": "execute_result"
    }
   ],
   "source": [
    "a.mean(axis=1)"
   ]
  },
  {
   "cell_type": "code",
   "execution_count": 11,
   "id": "cbdc7d55-3e2f-478a-b53b-550cdc348455",
   "metadata": {},
   "outputs": [
    {
     "data": {
      "text/plain": [
       "array([6.        , 6.        , 5.66666667, 5.33333333])"
      ]
     },
     "execution_count": 11,
     "metadata": {},
     "output_type": "execute_result"
    }
   ],
   "source": [
    "a.mean(axis=0)"
   ]
  },
  {
   "cell_type": "code",
   "execution_count": 14,
   "id": "76a0a9fe-b2bd-4184-a977-070d59ff36fd",
   "metadata": {},
   "outputs": [
    {
     "data": {
      "text/plain": [
       "array([11,  9,  9,  9])"
      ]
     },
     "execution_count": 14,
     "metadata": {},
     "output_type": "execute_result"
    }
   ],
   "source": [
    "a.max(axis=0)"
   ]
  },
  {
   "cell_type": "code",
   "execution_count": 15,
   "id": "71ba0a33-0b83-4e21-9b6c-963abef83a92",
   "metadata": {},
   "outputs": [
    {
     "data": {
      "text/plain": [
       "array([ 9,  6, 11])"
      ]
     },
     "execution_count": 15,
     "metadata": {},
     "output_type": "execute_result"
    }
   ],
   "source": [
    "a.max(axis=1)"
   ]
  },
  {
   "cell_type": "code",
   "execution_count": 16,
   "id": "282bce67-6f80-44b8-acea-73500e50ddd2",
   "metadata": {},
   "outputs": [
    {
     "data": {
      "text/plain": [
       "array([1, 1, 6])"
      ]
     },
     "execution_count": 16,
     "metadata": {},
     "output_type": "execute_result"
    }
   ],
   "source": [
    "a.min(axis=1)"
   ]
  },
  {
   "cell_type": "code",
   "execution_count": 17,
   "id": "27c859e4-1ba1-4c39-9c35-7922899d653d",
   "metadata": {},
   "outputs": [
    {
     "data": {
      "text/plain": [
       "array([3, 1, 2, 1])"
      ]
     },
     "execution_count": 17,
     "metadata": {},
     "output_type": "execute_result"
    }
   ],
   "source": [
    "a.min(axis=0)"
   ]
  },
  {
   "cell_type": "code",
   "execution_count": 18,
   "id": "0fff475d-b59f-4c98-a20b-551a1808b1fe",
   "metadata": {},
   "outputs": [
    {
     "data": {
      "text/plain": [
       "array([2, 2, 0, 2], dtype=int64)"
      ]
     },
     "execution_count": 18,
     "metadata": {},
     "output_type": "execute_result"
    }
   ],
   "source": [
    "a.argmax(axis=0)"
   ]
  },
  {
   "cell_type": "code",
   "execution_count": 19,
   "id": "327099bd-2849-49a8-b5b6-f5ae39cac381",
   "metadata": {},
   "outputs": [
    {
     "data": {
      "text/plain": [
       "array([2, 3, 0], dtype=int64)"
      ]
     },
     "execution_count": 19,
     "metadata": {},
     "output_type": "execute_result"
    }
   ],
   "source": [
    "a.argmax(axis=1)"
   ]
  },
  {
   "cell_type": "code",
   "execution_count": 20,
   "id": "f2e1b488-59f3-42a4-bbfe-071921167187",
   "metadata": {},
   "outputs": [
    {
     "data": {
      "text/plain": [
       "array([3.55902608, 3.55902608, 2.86744176, 3.29983165])"
      ]
     },
     "execution_count": 20,
     "metadata": {},
     "output_type": "execute_result"
    }
   ],
   "source": [
    "a.std(axis=0)"
   ]
  },
  {
   "cell_type": "code",
   "execution_count": 21,
   "id": "68467077-d079-4678-80dd-15745fa62af1",
   "metadata": {},
   "outputs": [
    {
     "data": {
      "text/plain": [
       "array([3.20156212, 1.87082869, 1.78535711])"
      ]
     },
     "execution_count": 21,
     "metadata": {},
     "output_type": "execute_result"
    }
   ],
   "source": [
    "a.std(axis=1)"
   ]
  },
  {
   "cell_type": "code",
   "execution_count": 23,
   "id": "487814fb-8b11-4d32-a4be-9660bcc28065",
   "metadata": {},
   "outputs": [
    {
     "data": {
      "text/plain": [
       "55427328"
      ]
     },
     "execution_count": 23,
     "metadata": {},
     "output_type": "execute_result"
    }
   ],
   "source": [
    "a.prod()"
   ]
  },
  {
   "cell_type": "code",
   "execution_count": 24,
   "id": "a0506ef2-6acc-4827-bdf5-470ac0f51aa4",
   "metadata": {},
   "outputs": [
    {
     "data": {
      "text/plain": [
       "array([[1, 1, 1, 0],\n",
       "       [0, 0, 2, 1],\n",
       "       [2, 2, 0, 2]], dtype=int64)"
      ]
     },
     "execution_count": 24,
     "metadata": {},
     "output_type": "execute_result"
    }
   ],
   "source": [
    "a.argsort(axis=0)"
   ]
  },
  {
   "cell_type": "code",
   "execution_count": 26,
   "id": "730d1707-0967-44bd-b5ed-b80c85c5f457",
   "metadata": {},
   "outputs": [
    {
     "data": {
      "text/plain": [
       "array([[ 4,  8,  9],\n",
       "       [ 1,  3,  1],\n",
       "       [ 2,  6, 11],\n",
       "       [ 9,  6,  9]])"
      ]
     },
     "execution_count": 26,
     "metadata": {},
     "output_type": "execute_result"
    }
   ],
   "source": [
    "a.reshape(4,3)"
   ]
  },
  {
   "cell_type": "code",
   "execution_count": 29,
   "id": "6fce6b1d-12c8-4f6f-ac2c-c5a642ba0b06",
   "metadata": {},
   "outputs": [
    {
     "name": "stdout",
     "output_type": "stream",
     "text": [
      "[[0.09090467 0.78671923 0.50144448]\n",
      " [0.56777015 0.6407228  0.21545061]\n",
      " [0.24436428 0.05353911 0.46652048]]\n"
     ]
    }
   ],
   "source": [
    "x=np.random.random((3,3))\n",
    "print(x)"
   ]
  },
  {
   "cell_type": "code",
   "execution_count": 31,
   "id": "0f565f87-a74d-49a0-b2a6-4a1c0fc588e3",
   "metadata": {},
   "outputs": [
    {
     "name": "stdout",
     "output_type": "stream",
     "text": [
      "[[14  7]\n",
      " [13  8]\n",
      " [ 8 12]]\n"
     ]
    }
   ],
   "source": [
    "x=np.random.randint(4,15,size=(3,2)) #We create 3x2 ndarray with random integers\n",
    "print(x)"
   ]
  },
  {
   "cell_type": "code",
   "execution_count": 32,
   "id": "f30f7901-97b0-4873-9ad4-d1bd14a82d02",
   "metadata": {},
   "outputs": [
    {
     "name": "stdout",
     "output_type": "stream",
     "text": [
      "[ 0.          2.77777778  5.55555556  8.33333333 11.11111111 13.88888889\n",
      " 16.66666667 19.44444444 22.22222222 25.        ]\n"
     ]
    }
   ],
   "source": [
    "x=np.linspace(0,25,10)  # we create a rank 1 ndarray that has 10 integers evenly spaced\n",
    "print(x)"
   ]
  },
  {
   "cell_type": "code",
   "execution_count": 33,
   "id": "30609f63-2fec-4903-90cd-2d34bb63d4e9",
   "metadata": {},
   "outputs": [
    {
     "name": "stdout",
     "output_type": "stream",
     "text": [
      "[ 0  1  2  3  4  5  6  7  8  9 10 11 12 13 14 15 16 17 18 19]\n"
     ]
    }
   ],
   "source": [
    "y=np.arange(20)  # we create a rank 1 ndarray with sequential integers 0 to 19\n",
    "print(y)"
   ]
  },
  {
   "cell_type": "code",
   "execution_count": 35,
   "id": "24f7e97e-a114-4a60-9a86-c230a0cfba9e",
   "metadata": {},
   "outputs": [
    {
     "data": {
      "text/plain": [
       "array([[ 0,  1,  2,  3],\n",
       "       [ 4,  5,  6,  7],\n",
       "       [ 8,  9, 10, 11],\n",
       "       [12, 13, 14, 15],\n",
       "       [16, 17, 18, 19]])"
      ]
     },
     "execution_count": 35,
     "metadata": {},
     "output_type": "execute_result"
    }
   ],
   "source": [
    "y.reshape(5,4)"
   ]
  },
  {
   "cell_type": "code",
   "execution_count": null,
   "id": "ebe5814c-850e-4ee3-84f4-0f2dd1609493",
   "metadata": {},
   "outputs": [],
   "source": []
  }
 ],
 "metadata": {
  "kernelspec": {
   "display_name": "Python 3",
   "language": "python",
   "name": "python3"
  },
  "language_info": {
   "codemirror_mode": {
    "name": "ipython",
    "version": 3
   },
   "file_extension": ".py",
   "mimetype": "text/x-python",
   "name": "python",
   "nbconvert_exporter": "python",
   "pygments_lexer": "ipython3",
   "version": "3.8.8"
  }
 },
 "nbformat": 4,
 "nbformat_minor": 5
}
