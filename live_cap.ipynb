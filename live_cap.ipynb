{
 "cells": [
  {
   "cell_type": "markdown",
   "id": "90ef0f00-c26e-434f-9b76-bdf3541eb4d6",
   "metadata": {},
   "source": [
    "# Live Image Processing"
   ]
  },
  {
   "cell_type": "code",
   "execution_count": 5,
   "id": "6b83562d-599a-420f-8321-939a15d6ada8",
   "metadata": {},
   "outputs": [],
   "source": [
    "import cv2"
   ]
  },
  {
   "cell_type": "code",
   "execution_count": 7,
   "id": "2a4dfc38-a21e-4992-8164-10f58c664adb",
   "metadata": {},
   "outputs": [],
   "source": [
    "vid = cv2.VideoCapture(0)\n",
    "if not(vid.isOpened()):\n",
    "    print(\"Could not open video device\")\n",
    "\n",
    "while True: \n",
    "    ret,frame = vid.read()\n",
    "    frame_r = frame[:,:,-1] #for fetching the red plane from frame\n",
    "    frame_gray = cv2.cvtColor(frame,cv2.COLOR_BGR2GRAY) #gray scale conversion\n",
    "    pure_red = cv2.subtract(frame_r,frame_gray)\n",
    "    cv2.imshow('frame',pure_red)\n",
    "    if cv2.waitKey(1)==ord('q'):\n",
    "        break\n",
    "vid.release()\n",
    "cv2.destroyAllWindows()"
   ]
  },
  {
   "cell_type": "code",
   "execution_count": null,
   "id": "b10f2fae-f97a-401d-a10d-eb6faf9cfd4a",
   "metadata": {},
   "outputs": [],
   "source": []
  }
 ],
 "metadata": {
  "kernelspec": {
   "display_name": "Python 3",
   "language": "python",
   "name": "python3"
  },
  "language_info": {
   "codemirror_mode": {
    "name": "ipython",
    "version": 3
   },
   "file_extension": ".py",
   "mimetype": "text/x-python",
   "name": "python",
   "nbconvert_exporter": "python",
   "pygments_lexer": "ipython3",
   "version": "3.8.8"
  }
 },
 "nbformat": 4,
 "nbformat_minor": 5
}
