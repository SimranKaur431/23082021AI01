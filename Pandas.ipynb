{
 "cells": [
  {
   "cell_type": "markdown",
   "id": "ae7f90de-6f40-46ef-80bf-d659b9d162e5",
   "metadata": {},
   "source": [
    "# <b>PANDAS</b>"
   ]
  },
  {
   "cell_type": "code",
   "execution_count": 1,
   "id": "1fb9449f-70a3-453e-9320-a7cc50417a5e",
   "metadata": {},
   "outputs": [],
   "source": [
    "import pandas as pd\n"
   ]
  },
  {
   "cell_type": "code",
   "execution_count": 2,
   "id": "168714fe-ebe1-49ec-95cc-abb288440d2d",
   "metadata": {},
   "outputs": [
    {
     "data": {
      "text/plain": [
       "0    1\n",
       "1    3\n",
       "2    5\n",
       "3    7\n",
       "4    4\n",
       "5    3\n",
       "6    9\n",
       "7    0\n",
       "dtype: int64"
      ]
     },
     "execution_count": 2,
     "metadata": {},
     "output_type": "execute_result"
    }
   ],
   "source": [
    "s1=pd.Series((1,3,5,7,4,3,9,0))\n",
    "s1"
   ]
  },
  {
   "cell_type": "code",
   "execution_count": 3,
   "id": "3e8a1930-3462-4a8e-b109-56c8b9d4dcb7",
   "metadata": {},
   "outputs": [
    {
     "data": {
      "text/plain": [
       "num1    [2, 3, 6, 7]\n",
       "num2    [3, 5, 7, 4]\n",
       "dtype: object"
      ]
     },
     "execution_count": 3,
     "metadata": {},
     "output_type": "execute_result"
    }
   ],
   "source": [
    "s1=pd.Series({'num1':[2,3,6,7],'num2':[3,5,7,4]})\n",
    "s1"
   ]
  },
  {
   "cell_type": "code",
   "execution_count": 4,
   "id": "58e2ca80-cbe7-4b90-85b9-800d307a10d6",
   "metadata": {},
   "outputs": [
    {
     "data": {
      "text/plain": [
       "item1    23\n",
       "item2    34\n",
       "item3    56\n",
       "dtype: int64"
      ]
     },
     "execution_count": 4,
     "metadata": {},
     "output_type": "execute_result"
    }
   ],
   "source": [
    "s2=pd.Series(data=[23,34,56],index=['item1','item2','item3'])\n",
    "s2"
   ]
  },
  {
   "cell_type": "code",
   "execution_count": 5,
   "id": "0388c81c-4030-431a-9eb7-45f26bb17ac0",
   "metadata": {},
   "outputs": [
    {
     "data": {
      "text/html": [
       "<div>\n",
       "<style scoped>\n",
       "    .dataframe tbody tr th:only-of-type {\n",
       "        vertical-align: middle;\n",
       "    }\n",
       "\n",
       "    .dataframe tbody tr th {\n",
       "        vertical-align: top;\n",
       "    }\n",
       "\n",
       "    .dataframe thead th {\n",
       "        text-align: right;\n",
       "    }\n",
       "</style>\n",
       "<table border=\"1\" class=\"dataframe\">\n",
       "  <thead>\n",
       "    <tr style=\"text-align: right;\">\n",
       "      <th></th>\n",
       "      <th>name</th>\n",
       "      <th>Age</th>\n",
       "      <th>Language</th>\n",
       "      <th>Experience_yr</th>\n",
       "    </tr>\n",
       "  </thead>\n",
       "  <tbody>\n",
       "    <tr>\n",
       "      <th>Person1</th>\n",
       "      <td>Sneha</td>\n",
       "      <td>20</td>\n",
       "      <td>Python</td>\n",
       "      <td>2</td>\n",
       "    </tr>\n",
       "    <tr>\n",
       "      <th>Person2</th>\n",
       "      <td>Muskan</td>\n",
       "      <td>21</td>\n",
       "      <td>C++</td>\n",
       "      <td>0</td>\n",
       "    </tr>\n",
       "    <tr>\n",
       "      <th>Person3</th>\n",
       "      <td>Aparna</td>\n",
       "      <td>34</td>\n",
       "      <td>Python</td>\n",
       "      <td>2</td>\n",
       "    </tr>\n",
       "    <tr>\n",
       "      <th>Person4</th>\n",
       "      <td>Shreya</td>\n",
       "      <td>45</td>\n",
       "      <td>Java</td>\n",
       "      <td>5</td>\n",
       "    </tr>\n",
       "    <tr>\n",
       "      <th>Person5</th>\n",
       "      <td>Rahul</td>\n",
       "      <td>23</td>\n",
       "      <td>C++</td>\n",
       "      <td>3</td>\n",
       "    </tr>\n",
       "  </tbody>\n",
       "</table>\n",
       "</div>"
      ],
      "text/plain": [
       "           name  Age Language  Experience_yr\n",
       "Person1   Sneha   20   Python              2\n",
       "Person2  Muskan   21      C++              0\n",
       "Person3  Aparna   34   Python              2\n",
       "Person4  Shreya   45     Java              5\n",
       "Person5   Rahul   23      C++              3"
      ]
     },
     "execution_count": 5,
     "metadata": {},
     "output_type": "execute_result"
    }
   ],
   "source": [
    "dict={'name':['Sneha','Muskan','Aparna','Shreya','Rahul'],\n",
    "'Age':[20,21,34,45,23],'Language':['Python','C++','Python','Java','C++'],'Experience_yr':[2,0,2,5,3]}\n",
    "details = pd.DataFrame(dict,index = ['Person1','Person2','Person3','Person4','Person5'])\n",
    "details\n"
   ]
  },
  {
   "cell_type": "markdown",
   "id": "a47cfb4e-63a4-456c-8dea-5b8624b79825",
   "metadata": {},
   "source": [
    "<font color='red'> Logical Indexing</font>"
   ]
  },
  {
   "cell_type": "code",
   "execution_count": 7,
   "id": "b2d031d5-172c-416c-ab81-4ddd24e26d8b",
   "metadata": {},
   "outputs": [
    {
     "data": {
      "text/html": [
       "<div>\n",
       "<style scoped>\n",
       "    .dataframe tbody tr th:only-of-type {\n",
       "        vertical-align: middle;\n",
       "    }\n",
       "\n",
       "    .dataframe tbody tr th {\n",
       "        vertical-align: top;\n",
       "    }\n",
       "\n",
       "    .dataframe thead th {\n",
       "        text-align: right;\n",
       "    }\n",
       "</style>\n",
       "<table border=\"1\" class=\"dataframe\">\n",
       "  <thead>\n",
       "    <tr style=\"text-align: right;\">\n",
       "      <th></th>\n",
       "      <th>name</th>\n",
       "      <th>Age</th>\n",
       "      <th>Language</th>\n",
       "      <th>Experience_yr</th>\n",
       "    </tr>\n",
       "  </thead>\n",
       "  <tbody>\n",
       "    <tr>\n",
       "      <th>Person2</th>\n",
       "      <td>Muskan</td>\n",
       "      <td>21</td>\n",
       "      <td>C++</td>\n",
       "      <td>0</td>\n",
       "    </tr>\n",
       "    <tr>\n",
       "      <th>Person3</th>\n",
       "      <td>Aparna</td>\n",
       "      <td>34</td>\n",
       "      <td>Python</td>\n",
       "      <td>2</td>\n",
       "    </tr>\n",
       "    <tr>\n",
       "      <th>Person4</th>\n",
       "      <td>Shreya</td>\n",
       "      <td>45</td>\n",
       "      <td>Java</td>\n",
       "      <td>5</td>\n",
       "    </tr>\n",
       "    <tr>\n",
       "      <th>Person5</th>\n",
       "      <td>Rahul</td>\n",
       "      <td>23</td>\n",
       "      <td>C++</td>\n",
       "      <td>3</td>\n",
       "    </tr>\n",
       "  </tbody>\n",
       "</table>\n",
       "</div>"
      ],
      "text/plain": [
       "           name  Age Language  Experience_yr\n",
       "Person2  Muskan   21      C++              0\n",
       "Person3  Aparna   34   Python              2\n",
       "Person4  Shreya   45     Java              5\n",
       "Person5   Rahul   23      C++              3"
      ]
     },
     "execution_count": 7,
     "metadata": {},
     "output_type": "execute_result"
    }
   ],
   "source": [
    "details[details['Age']>20] "
   ]
  },
  {
   "cell_type": "code",
   "execution_count": 8,
   "id": "c0e7ad29-8675-4b6c-addb-65f393e0b1ed",
   "metadata": {},
   "outputs": [
    {
     "data": {
      "text/html": [
       "<div>\n",
       "<style scoped>\n",
       "    .dataframe tbody tr th:only-of-type {\n",
       "        vertical-align: middle;\n",
       "    }\n",
       "\n",
       "    .dataframe tbody tr th {\n",
       "        vertical-align: top;\n",
       "    }\n",
       "\n",
       "    .dataframe thead th {\n",
       "        text-align: right;\n",
       "    }\n",
       "</style>\n",
       "<table border=\"1\" class=\"dataframe\">\n",
       "  <thead>\n",
       "    <tr style=\"text-align: right;\">\n",
       "      <th></th>\n",
       "      <th>name</th>\n",
       "      <th>Age</th>\n",
       "      <th>Language</th>\n",
       "      <th>Experience_yr</th>\n",
       "    </tr>\n",
       "  </thead>\n",
       "  <tbody>\n",
       "    <tr>\n",
       "      <th>Person1</th>\n",
       "      <td>Sneha</td>\n",
       "      <td>20</td>\n",
       "      <td>Python</td>\n",
       "      <td>2</td>\n",
       "    </tr>\n",
       "    <tr>\n",
       "      <th>Person3</th>\n",
       "      <td>Aparna</td>\n",
       "      <td>34</td>\n",
       "      <td>Python</td>\n",
       "      <td>2</td>\n",
       "    </tr>\n",
       "  </tbody>\n",
       "</table>\n",
       "</div>"
      ],
      "text/plain": [
       "           name  Age Language  Experience_yr\n",
       "Person1   Sneha   20   Python              2\n",
       "Person3  Aparna   34   Python              2"
      ]
     },
     "execution_count": 8,
     "metadata": {},
     "output_type": "execute_result"
    }
   ],
   "source": [
    "details[details['Language']=='Python']"
   ]
  },
  {
   "cell_type": "code",
   "execution_count": 9,
   "id": "834d3673-e748-48a9-94d5-32067176dc6f",
   "metadata": {},
   "outputs": [
    {
     "data": {
      "text/plain": [
       "Person1     True\n",
       "Person2    False\n",
       "Person3     True\n",
       "Person4     True\n",
       "Person5     True\n",
       "Name: Experience_yr, dtype: bool"
      ]
     },
     "execution_count": 9,
     "metadata": {},
     "output_type": "execute_result"
    }
   ],
   "source": [
    "details['Experience_yr']>1 "
   ]
  },
  {
   "cell_type": "code",
   "execution_count": 10,
   "id": "a6e1da88-3591-4b29-988a-672ba871122a",
   "metadata": {},
   "outputs": [
    {
     "data": {
      "text/html": [
       "<div>\n",
       "<style scoped>\n",
       "    .dataframe tbody tr th:only-of-type {\n",
       "        vertical-align: middle;\n",
       "    }\n",
       "\n",
       "    .dataframe tbody tr th {\n",
       "        vertical-align: top;\n",
       "    }\n",
       "\n",
       "    .dataframe thead th {\n",
       "        text-align: right;\n",
       "    }\n",
       "</style>\n",
       "<table border=\"1\" class=\"dataframe\">\n",
       "  <thead>\n",
       "    <tr style=\"text-align: right;\">\n",
       "      <th></th>\n",
       "      <th>name</th>\n",
       "      <th>Age</th>\n",
       "      <th>Language</th>\n",
       "      <th>Experience_yr</th>\n",
       "    </tr>\n",
       "  </thead>\n",
       "  <tbody>\n",
       "    <tr>\n",
       "      <th>Person3</th>\n",
       "      <td>Aparna</td>\n",
       "      <td>34</td>\n",
       "      <td>Python</td>\n",
       "      <td>2</td>\n",
       "    </tr>\n",
       "  </tbody>\n",
       "</table>\n",
       "</div>"
      ],
      "text/plain": [
       "           name  Age Language  Experience_yr\n",
       "Person3  Aparna   34   Python              2"
      ]
     },
     "execution_count": 10,
     "metadata": {},
     "output_type": "execute_result"
    }
   ],
   "source": [
    "details[(details['Language']=='Python') & (details['Experience_yr']>1) & (details['Age']>20)]"
   ]
  }
 ],
 "metadata": {
  "kernelspec": {
   "display_name": "Python 3",
   "language": "python",
   "name": "python3"
  },
  "language_info": {
   "codemirror_mode": {
    "name": "ipython",
    "version": 3
   },
   "file_extension": ".py",
   "mimetype": "text/x-python",
   "name": "python",
   "nbconvert_exporter": "python",
   "pygments_lexer": "ipython3",
   "version": "3.8.8"
  }
 },
 "nbformat": 4,
 "nbformat_minor": 5
}
