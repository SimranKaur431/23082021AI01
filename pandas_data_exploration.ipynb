{
 "cells": [
  {
   "cell_type": "markdown",
   "id": "68cf0f37-7656-4c12-b538-d690759ba1d5",
   "metadata": {},
   "source": [
    "# Pandas Data Exploration\n"
   ]
  },
  {
   "cell_type": "code",
   "execution_count": 2,
   "id": "ea768131-8edb-42bf-8bef-2e84c7a340a1",
   "metadata": {},
   "outputs": [],
   "source": [
    "import pandas as pd\n",
    "import numpy as np"
   ]
  },
  {
   "cell_type": "code",
   "execution_count": 3,
   "id": "b956a537-a757-4527-8ebd-795e626b2657",
   "metadata": {},
   "outputs": [
    {
     "data": {
      "text/html": [
       "<div>\n",
       "<style scoped>\n",
       "    .dataframe tbody tr th:only-of-type {\n",
       "        vertical-align: middle;\n",
       "    }\n",
       "\n",
       "    .dataframe tbody tr th {\n",
       "        vertical-align: top;\n",
       "    }\n",
       "\n",
       "    .dataframe thead th {\n",
       "        text-align: right;\n",
       "    }\n",
       "</style>\n",
       "<table border=\"1\" class=\"dataframe\">\n",
       "  <thead>\n",
       "    <tr style=\"text-align: right;\">\n",
       "      <th></th>\n",
       "      <th>title</th>\n",
       "      <th>cuisine</th>\n",
       "      <th>type</th>\n",
       "      <th>state</th>\n",
       "      <th>famous location</th>\n",
       "      <th>taste</th>\n",
       "      <th>price</th>\n",
       "    </tr>\n",
       "  </thead>\n",
       "  <tbody>\n",
       "    <tr>\n",
       "      <th>0</th>\n",
       "      <td>dosa</td>\n",
       "      <td>south indian</td>\n",
       "      <td>healthy</td>\n",
       "      <td>solid</td>\n",
       "      <td>chennai</td>\n",
       "      <td>spicy</td>\n",
       "      <td>60</td>\n",
       "    </tr>\n",
       "    <tr>\n",
       "      <th>1</th>\n",
       "      <td>maggi</td>\n",
       "      <td>chinese</td>\n",
       "      <td>fastfood</td>\n",
       "      <td>solid</td>\n",
       "      <td>hostel</td>\n",
       "      <td>spicy</td>\n",
       "      <td>30</td>\n",
       "    </tr>\n",
       "    <tr>\n",
       "      <th>2</th>\n",
       "      <td>susi</td>\n",
       "      <td>japanese</td>\n",
       "      <td>healthy</td>\n",
       "      <td>solid</td>\n",
       "      <td>tokyo</td>\n",
       "      <td>spicy</td>\n",
       "      <td>200</td>\n",
       "    </tr>\n",
       "    <tr>\n",
       "      <th>3</th>\n",
       "      <td>dal bati</td>\n",
       "      <td>rajasthani</td>\n",
       "      <td>healthy</td>\n",
       "      <td>mixed</td>\n",
       "      <td>chokhi dhani</td>\n",
       "      <td>spicy</td>\n",
       "      <td>150</td>\n",
       "    </tr>\n",
       "    <tr>\n",
       "      <th>4</th>\n",
       "      <td>pav bhaji</td>\n",
       "      <td>north indian</td>\n",
       "      <td>fastfood</td>\n",
       "      <td>mixed</td>\n",
       "      <td>delhi</td>\n",
       "      <td>spicy</td>\n",
       "      <td>60</td>\n",
       "    </tr>\n",
       "  </tbody>\n",
       "</table>\n",
       "</div>"
      ],
      "text/plain": [
       "       title       cuisine      type  state famous location  taste  price\n",
       "0       dosa  south indian   healthy  solid         chennai  spicy     60\n",
       "1      maggi       chinese  fastfood  solid          hostel  spicy     30\n",
       "2       susi      japanese   healthy  solid           tokyo  spicy    200\n",
       "3   dal bati    rajasthani   healthy  mixed    chokhi dhani  spicy    150\n",
       "4  pav bhaji  north indian  fastfood  mixed           delhi  spicy     60"
      ]
     },
     "execution_count": 3,
     "metadata": {},
     "output_type": "execute_result"
    }
   ],
   "source": [
    "df = pd.read_csv('food.csv')\n",
    "df.head()"
   ]
  },
  {
   "cell_type": "code",
   "execution_count": 4,
   "id": "14bcc963-78c5-4719-8038-5a3999cc6903",
   "metadata": {},
   "outputs": [
    {
     "data": {
      "text/plain": [
       "'cakes'"
      ]
     },
     "execution_count": 4,
     "metadata": {},
     "output_type": "execute_result"
    }
   ],
   "source": [
    "df['title'][df['price'].idxmax()]"
   ]
  },
  {
   "cell_type": "code",
   "execution_count": 5,
   "id": "fbf6691c-2f06-4311-a6e4-9dc45eabdbbe",
   "metadata": {},
   "outputs": [
    {
     "data": {
      "text/plain": [
       "'tea'"
      ]
     },
     "execution_count": 5,
     "metadata": {},
     "output_type": "execute_result"
    }
   ],
   "source": [
    "df['title'][df['price'].idxmin()]"
   ]
  },
  {
   "cell_type": "code",
   "execution_count": 8,
   "id": "940cedf4-73a0-48d0-8102-0e809e29f045",
   "metadata": {},
   "outputs": [
    {
     "data": {
      "text/plain": [
       "'italian'"
      ]
     },
     "execution_count": 8,
     "metadata": {},
     "output_type": "execute_result"
    }
   ],
   "source": [
    "list(df['cuisine'].value_counts().head(1).index)[0]"
   ]
  },
  {
   "cell_type": "code",
   "execution_count": 9,
   "id": "0dc5519e-066c-4942-9ac2-1db0f56f98d9",
   "metadata": {},
   "outputs": [
    {
     "data": {
      "text/plain": [
       "'kanha'"
      ]
     },
     "execution_count": 9,
     "metadata": {},
     "output_type": "execute_result"
    }
   ],
   "source": [
    "df['famous location'][df['title']=='sandwich'].tolist()[0]"
   ]
  },
  {
   "cell_type": "code",
   "execution_count": 83,
   "id": "a8584271-3276-4357-b7da-c9b9094badda",
   "metadata": {},
   "outputs": [
    {
     "data": {
      "text/html": [
       "<div>\n",
       "<style scoped>\n",
       "    .dataframe tbody tr th:only-of-type {\n",
       "        vertical-align: middle;\n",
       "    }\n",
       "\n",
       "    .dataframe tbody tr th {\n",
       "        vertical-align: top;\n",
       "    }\n",
       "\n",
       "    .dataframe thead th {\n",
       "        text-align: right;\n",
       "    }\n",
       "</style>\n",
       "<table border=\"1\" class=\"dataframe\">\n",
       "  <thead>\n",
       "    <tr style=\"text-align: right;\">\n",
       "      <th></th>\n",
       "      <th>title</th>\n",
       "      <th>cuisine</th>\n",
       "      <th>type</th>\n",
       "      <th>state</th>\n",
       "      <th>famous location</th>\n",
       "      <th>taste</th>\n",
       "      <th>price</th>\n",
       "    </tr>\n",
       "  </thead>\n",
       "  <tbody>\n",
       "    <tr>\n",
       "      <th>16</th>\n",
       "      <td>panipuri</td>\n",
       "      <td>north indian</td>\n",
       "      <td>fastfood</td>\n",
       "      <td>mixed</td>\n",
       "      <td>golu ke gol gappe</td>\n",
       "      <td>spicy</td>\n",
       "      <td>10</td>\n",
       "    </tr>\n",
       "  </tbody>\n",
       "</table>\n",
       "</div>"
      ],
      "text/plain": [
       "       title       cuisine      type  state    famous location  taste  price\n",
       "16  panipuri  north indian  fastfood  mixed  golu ke gol gappe  spicy     10"
      ]
     },
     "execution_count": 83,
     "metadata": {},
     "output_type": "execute_result"
    }
   ],
   "source": [
    "df[df['cuisine']=='north indian'].sort_values(by='price').head(1)"
   ]
  },
  {
   "cell_type": "code",
   "execution_count": 36,
   "id": "158a397a-2d95-438c-b9a4-3db03d25f800",
   "metadata": {},
   "outputs": [
    {
     "data": {
      "text/plain": [
       "[60]"
      ]
     },
     "execution_count": 36,
     "metadata": {},
     "output_type": "execute_result"
    }
   ],
   "source": [
    "list(df['price'][(df['cuisine']=='south indian') & (df['state']=='solid')])\n"
   ]
  },
  {
   "cell_type": "code",
   "execution_count": 41,
   "id": "71beedb8-a2ee-417b-aebd-d74f8a096e36",
   "metadata": {},
   "outputs": [
    {
     "data": {
      "text/plain": [
       "drink          1\n",
       "hot drink      1\n",
       "desert         2\n",
       "cold drink     3\n",
       "healthy        9\n",
       "fastfood      15\n",
       "Name: type, dtype: int64"
      ]
     },
     "execution_count": 41,
     "metadata": {},
     "output_type": "execute_result"
    }
   ],
   "source": [
    "df['type'].value_counts(ascending=True)"
   ]
  },
  {
   "cell_type": "code",
   "execution_count": 43,
   "id": "373b74f4-ab95-47a4-9f6e-1ffb02955236",
   "metadata": {},
   "outputs": [
    {
     "data": {
      "text/plain": [
       "cold drink     3\n",
       "desert         2\n",
       "drink          1\n",
       "fastfood      15\n",
       "healthy        9\n",
       "hot drink      1\n",
       "Name: type, dtype: int64"
      ]
     },
     "execution_count": 43,
     "metadata": {},
     "output_type": "execute_result"
    }
   ],
   "source": [
    "df['type'].value_counts().sort_index(ascending=True)"
   ]
  }
 ],
 "metadata": {
  "kernelspec": {
   "display_name": "Python 3",
   "language": "python",
   "name": "python3"
  },
  "language_info": {
   "codemirror_mode": {
    "name": "ipython",
    "version": 3
   },
   "file_extension": ".py",
   "mimetype": "text/x-python",
   "name": "python",
   "nbconvert_exporter": "python",
   "pygments_lexer": "ipython3",
   "version": "3.8.8"
  }
 },
 "nbformat": 4,
 "nbformat_minor": 5
}
